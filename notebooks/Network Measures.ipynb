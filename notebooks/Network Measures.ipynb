{
 "cells": [
  {
   "cell_type": "code",
   "id": "initial_id",
   "metadata": {
    "collapsed": true,
    "ExecuteTime": {
     "end_time": "2025-04-24T14:34:40.209780Z",
     "start_time": "2025-04-24T14:34:39.914621Z"
    }
   },
   "source": [
    "import networkx as nx\n",
    "import pandas as pd"
   ],
   "outputs": [],
   "execution_count": 1
  },
  {
   "metadata": {
    "ExecuteTime": {
     "end_time": "2025-04-24T14:44:46.149394Z",
     "start_time": "2025-04-24T14:44:46.129883Z"
    }
   },
   "cell_type": "code",
   "source": [
    "def compute_centrality(graph, name):\n",
    "    print(f\"--- Centrality Measures for {name} ---\")\n",
    "    dc = nx.degree_centrality(graph)\n",
    "    try:\n",
    "        bc = nx.betweenness_centrality(graph, k=100 if graph.number_of_nodes() > 1000 else None, seed=42)\n",
    "    except Exception as e:\n",
    "        print(f\"Warning: Betweenness centrality failed for {name}: {e}\")\n",
    "        bc = {node: 0 for node in graph.nodes()}\n",
    "    try:\n",
    "        ec = nx.eigenvector_centrality(graph, max_iter=500, tol=1e-03)\n",
    "    except Exception as e:\n",
    "        print(f\"Warning: Eigenvector centrality failed for {name}: {e}\")\n",
    "        ec = {node: 0 for node in graph.nodes()}\n",
    "    results = pd.DataFrame({\n",
    "        'Node': list(dc.keys()),\n",
    "        'Degree Centrality': list(dc.values()),\n",
    "        'Betweenness Centrality': list(bc.values()),\n",
    "        'Eigenvector Centrality': list(ec.values())\n",
    "    })\n",
    "    print(results.sort_values('Degree Centrality', ascending=False).head(10))\n",
    "    return results"
   ],
   "id": "6cd7811166c55c28",
   "outputs": [],
   "execution_count": 6
  },
  {
   "metadata": {
    "ExecuteTime": {
     "end_time": "2025-04-24T14:46:24.474315Z",
     "start_time": "2025-04-24T14:44:49.384441Z"
    }
   },
   "cell_type": "code",
   "source": "G1 = nx.read_gml(\"C:/Users/Aravi/PycharmProjects/Liar2-Misinformation-Network-Analysis/notebooks/graphs/G1_speaker_cooccurrence.gml\")",
   "id": "18cf3e111b60a0cd",
   "outputs": [],
   "execution_count": 7
  },
  {
   "metadata": {
    "ExecuteTime": {
     "end_time": "2025-04-24T14:46:52.935219Z",
     "start_time": "2025-04-24T14:46:24.591945Z"
    }
   },
   "cell_type": "code",
   "source": "G1_metrics = compute_centrality(G1, \"G1 - Speaker Co-occurrence\")",
   "id": "4ae8f267608d0435",
   "outputs": [
    {
     "name": "stdout",
     "output_type": "stream",
     "text": [
      "--- Centrality Measures for G1 - Speaker Co-occurrence ---\n",
      "               Node  Degree Centrality  Betweenness Centrality  \\\n",
      "1      barack-obama           1.000000                0.003925   \n",
      "40      marco-rubio           1.000000                0.003925   \n",
      "26         ted-cruz           1.000000                0.003925   \n",
      "131   charlie-crist           1.000000                0.003925   \n",
      "239  david-dewhurst           0.995531                0.003797   \n",
      "53     donald-trump           0.995531                0.003797   \n",
      "19       rick-scott           0.995531                0.003797   \n",
      "306   newt-gingrich           0.995531                0.003797   \n",
      "47         jeb-bush           0.995531                0.003797   \n",
      "21      eric-cantor           0.995531                0.003797   \n",
      "\n",
      "     Eigenvector Centrality  \n",
      "1                  0.039473  \n",
      "40                 0.039473  \n",
      "26                 0.039473  \n",
      "131                0.039473  \n",
      "239                0.039459  \n",
      "53                 0.039459  \n",
      "19                 0.039459  \n",
      "306                0.039459  \n",
      "47                 0.039459  \n",
      "21                 0.039459  \n"
     ]
    }
   ],
   "execution_count": 8
  },
  {
   "metadata": {
    "ExecuteTime": {
     "end_time": "2025-04-24T14:48:25.932824Z",
     "start_time": "2025-04-24T14:48:25.138877Z"
    }
   },
   "cell_type": "code",
   "source": "G2 = nx.read_gml(\"C:/Users/Aravi/PycharmProjects/Liar2-Misinformation-Network-Analysis/notebooks/graphs/G2_speaker_cooccurrence.gml\")",
   "id": "d01169ed81de1975",
   "outputs": [],
   "execution_count": 9
  },
  {
   "metadata": {
    "ExecuteTime": {
     "end_time": "2025-04-24T14:49:09.919667Z",
     "start_time": "2025-04-24T14:49:05.583021Z"
    }
   },
   "cell_type": "code",
   "source": "G2_metrics = compute_centrality(G2, \"G2 - Speaker Co-occurrence - on subject \")",
   "id": "c9e9107f4ca75a89",
   "outputs": [
    {
     "name": "stdout",
     "output_type": "stream",
     "text": [
      "--- Centrality Measures for G2 - Speaker Co-occurrence - on subject  ---\n",
      "                Node  Degree Centrality  Betweenness Centrality  \\\n",
      "4       barack-obama           0.037119                0.000370   \n",
      "106     donald-trump           0.020765                0.000621   \n",
      "41   hillary-clinton           0.018179                0.000362   \n",
      "23       mitt-romney           0.013387                0.000266   \n",
      "198     scott-walker           0.011333                0.000338   \n",
      "108      john-mccain           0.011257                0.000112   \n",
      "92        rick-perry           0.010801                0.000107   \n",
      "85       chain-email           0.010801                0.000107   \n",
      "75       marco-rubio           0.008899                0.000000   \n",
      "61        rick-scott           0.008747                0.000087   \n",
      "\n",
      "     Eigenvector Centrality  \n",
      "4                  0.417907  \n",
      "106                0.023444  \n",
      "41                 0.012147  \n",
      "23                 0.002688  \n",
      "198                0.001186  \n",
      "108                0.001147  \n",
      "92                 0.000937  \n",
      "85                 0.000937  \n",
      "75                 0.000363  \n",
      "61                 0.000334  \n"
     ]
    }
   ],
   "execution_count": 10
  },
  {
   "metadata": {
    "ExecuteTime": {
     "end_time": "2025-04-24T14:49:57.185582Z",
     "start_time": "2025-04-24T14:49:57.031082Z"
    }
   },
   "cell_type": "code",
   "source": "G3 = nx.read_gml(\"C:/Users/Aravi/PycharmProjects/Liar2-Misinformation-Network-Analysis/notebooks/graphs/G3_speaker_party_affiliation.gml\")",
   "id": "1ac75aa8fa704f87",
   "outputs": [],
   "execution_count": 11
  },
  {
   "metadata": {
    "ExecuteTime": {
     "end_time": "2025-04-24T14:50:32.821567Z",
     "start_time": "2025-04-24T14:50:31.397760Z"
    }
   },
   "cell_type": "code",
   "source": "G3_metrics = compute_centrality(G3, \"G3 - Speaker–Party\")",
   "id": "82a79fc06400f8a",
   "outputs": [
    {
     "name": "stdout",
     "output_type": "stream",
     "text": [
      "--- Centrality Measures for G3 - Speaker–Party ---\n",
      "                         Node  Degree Centrality  Betweenness Centrality  \\\n",
      "6                       Other           0.402678                0.407173   \n",
      "1                  Republican           0.304497                0.097396   \n",
      "3                    Democrat           0.277721                0.269337   \n",
      "14                Independent           0.014418                0.000000   \n",
      "126             robert-puente           0.000687                0.213988   \n",
      "2884               clay-dafoe           0.000343                0.000000   \n",
      "2885  conservative-daily-post           0.000343                0.000000   \n",
      "2886              kevin-rader           0.000343                0.000000   \n",
      "2887             ernest-moniz           0.000343                0.000000   \n",
      "2888         judith-zaffirini           0.000343                0.000000   \n",
      "\n",
      "      Eigenvector Centrality  \n",
      "6               7.441348e-01  \n",
      "1               8.330619e-04  \n",
      "3               2.133560e-03  \n",
      "14              1.541120e-34  \n",
      "126             1.956134e-02  \n",
      "2884            1.950480e-02  \n",
      "2885            1.950480e-02  \n",
      "2886            5.654118e-05  \n",
      "2887            5.654118e-05  \n",
      "2888            5.654118e-05  \n"
     ]
    }
   ],
   "execution_count": 13
  },
  {
   "metadata": {
    "ExecuteTime": {
     "end_time": "2025-04-24T14:50:47.178304Z",
     "start_time": "2025-04-24T14:50:45.882777Z"
    }
   },
   "cell_type": "code",
   "source": "G4 = nx.read_gml(\"graphs/G4_statement_label_graph.gml\")",
   "id": "c0d8f6bcaf3a8c03",
   "outputs": [],
   "execution_count": 14
  },
  {
   "metadata": {
    "ExecuteTime": {
     "end_time": "2025-04-24T14:50:59.953568Z",
     "start_time": "2025-04-24T14:50:55.050299Z"
    }
   },
   "cell_type": "code",
   "source": "G4_metrics = compute_centrality(G4, \"G4 - Statement–Label\")",
   "id": "d02879393436ab30",
   "outputs": [
    {
     "name": "stdout",
     "output_type": "stream",
     "text": [
      "--- Centrality Measures for G4 - Statement–Label ---\n",
      "              Node  Degree Centrality  Betweenness Centrality  \\\n",
      "3        half-true           0.206385                0.053645   \n",
      "1            false           0.194572                0.019451   \n",
      "5      mostly-true           0.191545                0.045956   \n",
      "9             true           0.163624                0.021263   \n",
      "11     barely-true           0.161476                0.025826   \n",
      "44      pants-fire           0.081910                0.009001   \n",
      "10229    1918.json           0.000098                0.000000   \n",
      "10230    4614.json           0.000098                0.000000   \n",
      "10231   13344.json           0.000098                0.000000   \n",
      "10232   13239.json           0.000098                0.000000   \n",
      "\n",
      "       Eigenvector Centrality  \n",
      "3                    0.490397  \n",
      "1                    0.462341  \n",
      "5                    0.455153  \n",
      "9                    0.388839  \n",
      "11                   0.383738  \n",
      "44                   0.194768  \n",
      "10229                0.000464  \n",
      "10230                0.000464  \n",
      "10231                0.000464  \n",
      "10232                0.000464  \n"
     ]
    }
   ],
   "execution_count": 15
  },
  {
   "metadata": {
    "ExecuteTime": {
     "end_time": "2025-04-24T14:51:12.158834Z",
     "start_time": "2025-04-24T14:51:11.702362Z"
    }
   },
   "cell_type": "code",
   "source": "G5 = nx.read_gml(\"graphs/G5_speaker_statement_bipartite.gml\")",
   "id": "9568f9a8d8afb492",
   "outputs": [],
   "execution_count": 16
  },
  {
   "metadata": {
    "ExecuteTime": {
     "end_time": "2025-04-24T14:51:25.018479Z",
     "start_time": "2025-04-24T14:51:21.878307Z"
    }
   },
   "cell_type": "code",
   "source": "G5_metrics = compute_centrality(G5, \"G5 - Speaker–Statement Bipartite\")",
   "id": "ff3a001c90415251",
   "outputs": [
    {
     "name": "stdout",
     "output_type": "stream",
     "text": [
      "--- Centrality Measures for G5 - Speaker–Statement Bipartite ---\n",
      "                Node  Degree Centrality  Betweenness Centrality  \\\n",
      "12      barack-obama           0.036169                0.001081   \n",
      "58      donald-trump           0.019476                0.000000   \n",
      "119  hillary-clinton           0.016547                0.000492   \n",
      "180      mitt-romney           0.013326                0.000000   \n",
      "117     scott-walker           0.011715                0.000116   \n",
      "28       john-mccain           0.009811                0.000311   \n",
      "67       marco-rubio           0.008932                0.000088   \n",
      "159       rick-perry           0.008786                0.000000   \n",
      "2        chain-email           0.008640                0.000085   \n",
      "46        rick-scott           0.008200                0.000242   \n",
      "\n",
      "     Eigenvector Centrality  \n",
      "12                 0.517045  \n",
      "58                 0.024590  \n",
      "119                0.011090  \n",
      "180                0.003868  \n",
      "117                0.002073  \n",
      "28                 0.000902  \n",
      "67                 0.000563  \n",
      "159                0.000520  \n",
      "2                  0.000480  \n",
      "46                 0.000374  \n"
     ]
    }
   ],
   "execution_count": 17
  },
  {
   "metadata": {
    "ExecuteTime": {
     "end_time": "2025-04-24T14:51:37.238888Z",
     "start_time": "2025-04-24T14:51:34.670072Z"
    }
   },
   "cell_type": "code",
   "source": "G6 = nx.read_gml(\"graphs/G6_speaker_party_statement.gml\")",
   "id": "7ec24abe09e8f5bb",
   "outputs": [],
   "execution_count": 18
  },
  {
   "metadata": {
    "ExecuteTime": {
     "end_time": "2025-04-24T14:51:51.821038Z",
     "start_time": "2025-04-24T14:51:45.157302Z"
    }
   },
   "cell_type": "code",
   "source": "G6_metrics = compute_centrality(G6, \"G6 - Speaker–Party–Statement\")",
   "id": "88ef15db8d18e5a4",
   "outputs": [
    {
     "name": "stdout",
     "output_type": "stream",
     "text": [
      "--- Centrality Measures for G6 - Speaker–Party–Statement ---\n",
      "                Node  Degree Centrality  Betweenness Centrality  \\\n",
      "1         republican           0.066829                0.610297   \n",
      "9               none           0.065156                0.315249   \n",
      "4           democrat           0.061431                0.426266   \n",
      "6       barack-obama           0.037178                0.137869   \n",
      "113     donald-trump           0.020832                0.055498   \n",
      "47   hillary-clinton           0.018247                0.059990   \n",
      "28       mitt-romney           0.013457                0.132990   \n",
      "19      organization           0.011480                0.001112   \n",
      "207     scott-walker           0.011328                0.019670   \n",
      "115      john-mccain           0.011252                0.019564   \n",
      "\n",
      "     Eigenvector Centrality  \n",
      "1              4.705458e-01  \n",
      "9              3.001883e-01  \n",
      "4              1.882821e-01  \n",
      "6              2.234485e-02  \n",
      "113            3.070683e-02  \n",
      "47             1.236330e-02  \n",
      "28             2.655281e-02  \n",
      "19             2.353745e-09  \n",
      "207            2.549459e-02  \n",
      "115            2.549128e-02  \n"
     ]
    }
   ],
   "execution_count": 19
  },
  {
   "metadata": {
    "ExecuteTime": {
     "end_time": "2025-04-24T14:56:59.007660Z",
     "start_time": "2025-04-24T14:56:58.574828Z"
    }
   },
   "cell_type": "code",
   "source": [
    "# Save centrality tables to CSV\n",
    "G1_metrics.to_csv(\"C:/Users/Aravi/PycharmProjects/Liar2-Misinformation-Network-Analysis/data/G1_centrality.csv\", index=False)\n",
    "G2_metrics.to_csv(\"C:/Users/Aravi/PycharmProjects/Liar2-Misinformation-Network-Analysis/data/G2_centrality.csv\", index=False)\n",
    "G3_metrics.to_csv(\"C:/Users/Aravi/PycharmProjects/Liar2-Misinformation-Network-Analysis/data/G3_centrality.csv\", index=False)\n",
    "G4_metrics.to_csv(\"C:/Users/Aravi/PycharmProjects/Liar2-Misinformation-Network-Analysis/data/G4_centrality.csv\", index=False)\n",
    "G5_metrics.to_csv(\"C:/Users/Aravi/PycharmProjects/Liar2-Misinformation-Network-Analysis/data/G5_centrality.csv\", index=False)\n",
    "G6_metrics.to_csv(\"C:/Users/Aravi/PycharmProjects/Liar2-Misinformation-Network-Analysis/data/G6_centrality.csv\", index=False)\n",
    "\n",
    "print(\"All centrality measures computed and exported.\")"
   ],
   "id": "5193507622ded28d",
   "outputs": [
    {
     "name": "stdout",
     "output_type": "stream",
     "text": [
      "All centrality measures computed and exported.\n"
     ]
    }
   ],
   "execution_count": 21
  },
  {
   "metadata": {},
   "cell_type": "code",
   "outputs": [],
   "execution_count": null,
   "source": "",
   "id": "519ce5ccfa51d09d"
  }
 ],
 "metadata": {
  "kernelspec": {
   "display_name": "Python 3",
   "language": "python",
   "name": "python3"
  },
  "language_info": {
   "codemirror_mode": {
    "name": "ipython",
    "version": 2
   },
   "file_extension": ".py",
   "mimetype": "text/x-python",
   "name": "python",
   "nbconvert_exporter": "python",
   "pygments_lexer": "ipython2",
   "version": "2.7.6"
  }
 },
 "nbformat": 4,
 "nbformat_minor": 5
}
